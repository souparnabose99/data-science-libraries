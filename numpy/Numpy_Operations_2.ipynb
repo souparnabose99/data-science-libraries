{
  "nbformat": 4,
  "nbformat_minor": 0,
  "metadata": {
    "colab": {
      "name": "Numpy-Operations-2.ipynb",
      "provenance": [],
      "collapsed_sections": []
    },
    "kernelspec": {
      "name": "python3",
      "display_name": "Python 3"
    },
    "language_info": {
      "name": "python"
    }
  },
  "cells": [
    {
      "cell_type": "code",
      "execution_count": 1,
      "metadata": {
        "id": "F_upyfuCLPhi"
      },
      "outputs": [],
      "source": [
        "import numpy as np"
      ]
    },
    {
      "cell_type": "code",
      "source": [
        "a = np.array([0,1,2])\n",
        "a + 1"
      ],
      "metadata": {
        "colab": {
          "base_uri": "https://localhost:8080/"
        },
        "id": "L95SAY3xNXza",
        "outputId": "0317ed20-b963-4d27-aacc-85f1ae001e76"
      },
      "execution_count": 2,
      "outputs": [
        {
          "output_type": "execute_result",
          "data": {
            "text/plain": [
              "array([1, 2, 3])"
            ]
          },
          "metadata": {},
          "execution_count": 2
        }
      ]
    },
    {
      "cell_type": "code",
      "source": [
        "b = np.diag([1,2,3,4])\n",
        "print(b * b)\n",
        "print(b.dot(b))"
      ],
      "metadata": {
        "colab": {
          "base_uri": "https://localhost:8080/"
        },
        "id": "ehvX50ENNf1g",
        "outputId": "13898b95-81e2-49ab-9ac9-28268eaaf22b"
      },
      "execution_count": 4,
      "outputs": [
        {
          "output_type": "stream",
          "name": "stdout",
          "text": [
            "[[ 1  0  0  0]\n",
            " [ 0  4  0  0]\n",
            " [ 0  0  9  0]\n",
            " [ 0  0  0 16]]\n",
            "[[ 1  0  0  0]\n",
            " [ 0  4  0  0]\n",
            " [ 0  0  9  0]\n",
            " [ 0  0  0 16]]\n"
          ]
        }
      ]
    },
    {
      "cell_type": "code",
      "source": [
        "a == (a+1)"
      ],
      "metadata": {
        "colab": {
          "base_uri": "https://localhost:8080/"
        },
        "id": "w47GOoWMNwVz",
        "outputId": "94fdc631-8f55-463d-88f1-f61f51fb6f99"
      },
      "execution_count": 6,
      "outputs": [
        {
          "output_type": "execute_result",
          "data": {
            "text/plain": [
              "array([False, False, False])"
            ]
          },
          "metadata": {},
          "execution_count": 6
        }
      ]
    },
    {
      "cell_type": "code",
      "source": [
        "np.array_equal(a,(a+1))"
      ],
      "metadata": {
        "colab": {
          "base_uri": "https://localhost:8080/"
        },
        "id": "TQSobH2gN5Kv",
        "outputId": "e1924de0-68cd-4e96-80f3-498b390015cd"
      },
      "execution_count": 7,
      "outputs": [
        {
          "output_type": "execute_result",
          "data": {
            "text/plain": [
              "False"
            ]
          },
          "metadata": {},
          "execution_count": 7
        }
      ]
    },
    {
      "cell_type": "code",
      "source": [
        "np.sin(a)"
      ],
      "metadata": {
        "colab": {
          "base_uri": "https://localhost:8080/"
        },
        "id": "y8vcVkJKOCNm",
        "outputId": "efed00a6-c3bd-4763-9162-aa4fc647f521"
      },
      "execution_count": 8,
      "outputs": [
        {
          "output_type": "execute_result",
          "data": {
            "text/plain": [
              "array([0.        , 0.84147098, 0.90929743])"
            ]
          },
          "metadata": {},
          "execution_count": 8
        }
      ]
    },
    {
      "cell_type": "code",
      "source": [
        "np.log(a)"
      ],
      "metadata": {
        "colab": {
          "base_uri": "https://localhost:8080/"
        },
        "id": "3Ab9wXqZONlK",
        "outputId": "981a8ff4-ed83-47c4-adfc-764e9037aee1"
      },
      "execution_count": 9,
      "outputs": [
        {
          "output_type": "stream",
          "name": "stderr",
          "text": [
            "/usr/local/lib/python3.7/dist-packages/ipykernel_launcher.py:1: RuntimeWarning: divide by zero encountered in log\n",
            "  \"\"\"Entry point for launching an IPython kernel.\n"
          ]
        },
        {
          "output_type": "execute_result",
          "data": {
            "text/plain": [
              "array([      -inf, 0.        , 0.69314718])"
            ]
          },
          "metadata": {},
          "execution_count": 9
        }
      ]
    },
    {
      "cell_type": "code",
      "source": [
        "np.exp(a)"
      ],
      "metadata": {
        "colab": {
          "base_uri": "https://localhost:8080/"
        },
        "id": "BEstemkWOQzo",
        "outputId": "8546c6dd-2552-423a-de52-4f698df420f0"
      },
      "execution_count": 10,
      "outputs": [
        {
          "output_type": "execute_result",
          "data": {
            "text/plain": [
              "array([1.        , 2.71828183, 7.3890561 ])"
            ]
          },
          "metadata": {},
          "execution_count": 10
        }
      ]
    },
    {
      "cell_type": "code",
      "source": [
        "# Reductions:\n",
        "\n",
        "np.sum(a)"
      ],
      "metadata": {
        "colab": {
          "base_uri": "https://localhost:8080/"
        },
        "id": "oDcQmRqbOTZw",
        "outputId": "b822d694-dc4b-4717-af0e-10b999a43797"
      },
      "execution_count": 11,
      "outputs": [
        {
          "output_type": "execute_result",
          "data": {
            "text/plain": [
              "3"
            ]
          },
          "metadata": {},
          "execution_count": 11
        }
      ]
    },
    {
      "cell_type": "code",
      "source": [
        "b = np.array([[1,1],[2,2]])\n",
        "b.sum(axis=0)"
      ],
      "metadata": {
        "colab": {
          "base_uri": "https://localhost:8080/"
        },
        "id": "8HqQagK0OcBG",
        "outputId": "80a77f8f-f69a-4e41-e81c-8a7b5466e6f8"
      },
      "execution_count": 13,
      "outputs": [
        {
          "output_type": "execute_result",
          "data": {
            "text/plain": [
              "array([3, 3])"
            ]
          },
          "metadata": {},
          "execution_count": 13
        }
      ]
    },
    {
      "cell_type": "code",
      "source": [
        "b.sum(axis=1)"
      ],
      "metadata": {
        "colab": {
          "base_uri": "https://localhost:8080/"
        },
        "id": "bCB5Nv_FOn9B",
        "outputId": "9515de02-85aa-46f1-f65c-aa321ba28100"
      },
      "execution_count": 14,
      "outputs": [
        {
          "output_type": "execute_result",
          "data": {
            "text/plain": [
              "array([2, 4])"
            ]
          },
          "metadata": {},
          "execution_count": 14
        }
      ]
    },
    {
      "cell_type": "code",
      "source": [
        "a.min()"
      ],
      "metadata": {
        "colab": {
          "base_uri": "https://localhost:8080/"
        },
        "id": "WcTnyZyGOtc1",
        "outputId": "0a2477ac-fa59-4861-ba3a-9d6759bc9101"
      },
      "execution_count": 15,
      "outputs": [
        {
          "output_type": "execute_result",
          "data": {
            "text/plain": [
              "0"
            ]
          },
          "metadata": {},
          "execution_count": 15
        }
      ]
    },
    {
      "cell_type": "code",
      "source": [
        "a.argmin()"
      ],
      "metadata": {
        "colab": {
          "base_uri": "https://localhost:8080/"
        },
        "id": "u6L1-vCtOzKw",
        "outputId": "aedeb057-741a-4f37-9e14-a581d7501776"
      },
      "execution_count": 16,
      "outputs": [
        {
          "output_type": "execute_result",
          "data": {
            "text/plain": [
              "0"
            ]
          },
          "metadata": {},
          "execution_count": 16
        }
      ]
    },
    {
      "cell_type": "code",
      "source": [
        "a.argmax()"
      ],
      "metadata": {
        "colab": {
          "base_uri": "https://localhost:8080/"
        },
        "id": "3suncz0bO0p9",
        "outputId": "ff284f78-1d83-42d3-b303-6964722fd7eb"
      },
      "execution_count": 17,
      "outputs": [
        {
          "output_type": "execute_result",
          "data": {
            "text/plain": [
              "2"
            ]
          },
          "metadata": {},
          "execution_count": 17
        }
      ]
    },
    {
      "cell_type": "code",
      "source": [
        "print(np.all([True, False]))\n",
        "print(np.any([True, False]))"
      ],
      "metadata": {
        "colab": {
          "base_uri": "https://localhost:8080/"
        },
        "id": "imGADfBrO3i-",
        "outputId": "c03a9ffe-3457-4027-fb63-e3c94d61ec16"
      },
      "execution_count": 18,
      "outputs": [
        {
          "output_type": "stream",
          "name": "stdout",
          "text": [
            "False\n",
            "True\n"
          ]
        }
      ]
    },
    {
      "cell_type": "code",
      "source": [
        "# Axis=0 -> Col, Axis=1 -> Row\n",
        "x = np.array([1,2,3,4])\n",
        "y = np.array([[1,2,3],[4,5,6]])\n",
        "print(x.mean())\n",
        "print(np.median(x))\n",
        "print(np.median(y, axis=-1))"
      ],
      "metadata": {
        "colab": {
          "base_uri": "https://localhost:8080/"
        },
        "id": "Q2It3_wiPKOp",
        "outputId": "dba9453a-f1ed-4345-cc11-4c71de9f5f08"
      },
      "execution_count": 19,
      "outputs": [
        {
          "output_type": "stream",
          "name": "stdout",
          "text": [
            "2.5\n",
            "2.5\n",
            "[2. 5.]\n"
          ]
        }
      ]
    },
    {
      "cell_type": "code",
      "source": [
        "data = np.loadtxt(\"/content/populations.txt\")\n",
        "data"
      ],
      "metadata": {
        "colab": {
          "base_uri": "https://localhost:8080/"
        },
        "id": "HeWaJlPrPu10",
        "outputId": "de9ba966-f783-4d57-b90e-a65ea74baf21"
      },
      "execution_count": 20,
      "outputs": [
        {
          "output_type": "execute_result",
          "data": {
            "text/plain": [
              "array([[ 1900., 30000.,  4000., 48300.],\n",
              "       [ 1901., 47200.,  6100., 48200.],\n",
              "       [ 1902., 70200.,  9800., 41500.],\n",
              "       [ 1903., 77400., 35200., 38200.],\n",
              "       [ 1904., 36300., 59400., 40600.],\n",
              "       [ 1905., 20600., 41700., 39800.],\n",
              "       [ 1906., 18100., 19000., 38600.],\n",
              "       [ 1907., 21400., 13000., 42300.],\n",
              "       [ 1908., 22000.,  8300., 44500.],\n",
              "       [ 1909., 25400.,  9100., 42100.],\n",
              "       [ 1910., 27100.,  7400., 46000.],\n",
              "       [ 1911., 40300.,  8000., 46800.],\n",
              "       [ 1912., 57000., 12300., 43800.],\n",
              "       [ 1913., 76600., 19500., 40900.],\n",
              "       [ 1914., 52300., 45700., 39400.],\n",
              "       [ 1915., 19500., 51100., 39000.],\n",
              "       [ 1916., 11200., 29700., 36700.],\n",
              "       [ 1917.,  7600., 15800., 41800.],\n",
              "       [ 1918., 14600.,  9700., 43300.],\n",
              "       [ 1919., 16200., 10100., 41300.],\n",
              "       [ 1920., 24700.,  8600., 47300.]])"
            ]
          },
          "metadata": {},
          "execution_count": 20
        }
      ]
    },
    {
      "cell_type": "code",
      "source": [
        "x1, x2, x3, x4 = data.T\n",
        "x1"
      ],
      "metadata": {
        "colab": {
          "base_uri": "https://localhost:8080/"
        },
        "id": "S71HdOyIQa4h",
        "outputId": "ee7e7a0a-9638-47e5-a2ee-45cb0229f326"
      },
      "execution_count": 21,
      "outputs": [
        {
          "output_type": "execute_result",
          "data": {
            "text/plain": [
              "array([1900., 1901., 1902., 1903., 1904., 1905., 1906., 1907., 1908.,\n",
              "       1909., 1910., 1911., 1912., 1913., 1914., 1915., 1916., 1917.,\n",
              "       1918., 1919., 1920.])"
            ]
          },
          "metadata": {},
          "execution_count": 21
        }
      ]
    },
    {
      "cell_type": "code",
      "source": [
        "data[:,1:]"
      ],
      "metadata": {
        "colab": {
          "base_uri": "https://localhost:8080/"
        },
        "id": "dUVkQ59vQ5sl",
        "outputId": "dd7a5183-c040-41ae-b0ed-8212934c0e02"
      },
      "execution_count": 22,
      "outputs": [
        {
          "output_type": "execute_result",
          "data": {
            "text/plain": [
              "array([[30000.,  4000., 48300.],\n",
              "       [47200.,  6100., 48200.],\n",
              "       [70200.,  9800., 41500.],\n",
              "       [77400., 35200., 38200.],\n",
              "       [36300., 59400., 40600.],\n",
              "       [20600., 41700., 39800.],\n",
              "       [18100., 19000., 38600.],\n",
              "       [21400., 13000., 42300.],\n",
              "       [22000.,  8300., 44500.],\n",
              "       [25400.,  9100., 42100.],\n",
              "       [27100.,  7400., 46000.],\n",
              "       [40300.,  8000., 46800.],\n",
              "       [57000., 12300., 43800.],\n",
              "       [76600., 19500., 40900.],\n",
              "       [52300., 45700., 39400.],\n",
              "       [19500., 51100., 39000.],\n",
              "       [11200., 29700., 36700.],\n",
              "       [ 7600., 15800., 41800.],\n",
              "       [14600.,  9700., 43300.],\n",
              "       [16200., 10100., 41300.],\n",
              "       [24700.,  8600., 47300.]])"
            ]
          },
          "metadata": {},
          "execution_count": 22
        }
      ]
    },
    {
      "cell_type": "code",
      "source": [
        "data[:,1:].std(axis=0)"
      ],
      "metadata": {
        "colab": {
          "base_uri": "https://localhost:8080/"
        },
        "id": "8xNyIicnRGY0",
        "outputId": "17d54c61-6c08-4a89-8d15-9c703bbe387c"
      },
      "execution_count": 23,
      "outputs": [
        {
          "output_type": "execute_result",
          "data": {
            "text/plain": [
              "array([20897.90645809, 16254.59153691,  3322.50622558])"
            ]
          },
          "metadata": {},
          "execution_count": 23
        }
      ]
    },
    {
      "cell_type": "code",
      "source": [
        "np.argmax(data, axis=1)"
      ],
      "metadata": {
        "colab": {
          "base_uri": "https://localhost:8080/"
        },
        "id": "WerNSSMBRM2s",
        "outputId": "3d0da72c-d279-44a8-bcdf-953339a6d59d"
      },
      "execution_count": 24,
      "outputs": [
        {
          "output_type": "execute_result",
          "data": {
            "text/plain": [
              "array([3, 3, 1, 1, 2, 2, 3, 3, 3, 3, 3, 3, 1, 1, 1, 2, 3, 3, 3, 3, 3])"
            ]
          },
          "metadata": {},
          "execution_count": 24
        }
      ]
    },
    {
      "cell_type": "code",
      "source": [
        "np.argmax(data, axis=0)"
      ],
      "metadata": {
        "colab": {
          "base_uri": "https://localhost:8080/"
        },
        "id": "1GmAxs1wRW3d",
        "outputId": "a0ea4f9c-4c46-405f-fb75-1ec6d66efac5"
      },
      "execution_count": 25,
      "outputs": [
        {
          "output_type": "execute_result",
          "data": {
            "text/plain": [
              "array([20,  3,  4,  0])"
            ]
          },
          "metadata": {},
          "execution_count": 25
        }
      ]
    },
    {
      "cell_type": "code",
      "source": [
        "# Broadcasting:\n",
        "\n",
        "a = np.tile(np.arange(0, 40, 10), (4,1))\n",
        "print(a)\n",
        "\n",
        "print(\"\\n#####\\n\")\n",
        "\n",
        "a= a.T\n",
        "print(a)"
      ],
      "metadata": {
        "colab": {
          "base_uri": "https://localhost:8080/"
        },
        "id": "M5INZTyFRfC-",
        "outputId": "27b10c2a-4867-4775-d593-50e74e298911"
      },
      "execution_count": 26,
      "outputs": [
        {
          "output_type": "stream",
          "name": "stdout",
          "text": [
            "[[ 0 10 20 30]\n",
            " [ 0 10 20 30]\n",
            " [ 0 10 20 30]\n",
            " [ 0 10 20 30]]\n",
            "\n",
            "#####\n",
            "\n",
            "[[ 0  0  0  0]\n",
            " [10 10 10 10]\n",
            " [20 20 20 20]\n",
            " [30 30 30 30]]\n"
          ]
        }
      ]
    },
    {
      "cell_type": "code",
      "source": [
        "a = np.tile(np.arange(0, 40, 10), (4,2))\n",
        "a"
      ],
      "metadata": {
        "colab": {
          "base_uri": "https://localhost:8080/"
        },
        "id": "lntui_GRSOoG",
        "outputId": "e5ffd641-e7fe-40dd-ba5b-9c17e495a884"
      },
      "execution_count": 27,
      "outputs": [
        {
          "output_type": "execute_result",
          "data": {
            "text/plain": [
              "array([[ 0, 10, 20, 30,  0, 10, 20, 30],\n",
              "       [ 0, 10, 20, 30,  0, 10, 20, 30],\n",
              "       [ 0, 10, 20, 30,  0, 10, 20, 30],\n",
              "       [ 0, 10, 20, 30,  0, 10, 20, 30]])"
            ]
          },
          "metadata": {},
          "execution_count": 27
        }
      ]
    },
    {
      "cell_type": "code",
      "source": [
        "a = np.tile(np.arange(0, 40, 10), (3,1))\n",
        "b = np.array([0,1,2,3])\n",
        "a+b"
      ],
      "metadata": {
        "colab": {
          "base_uri": "https://localhost:8080/"
        },
        "id": "xfcGML_RSWfu",
        "outputId": "2661eb55-7e5a-4e43-b072-767198005199"
      },
      "execution_count": 29,
      "outputs": [
        {
          "output_type": "execute_result",
          "data": {
            "text/plain": [
              "array([[ 0, 11, 22, 33],\n",
              "       [ 0, 11, 22, 33],\n",
              "       [ 0, 11, 22, 33]])"
            ]
          },
          "metadata": {},
          "execution_count": 29
        }
      ]
    },
    {
      "cell_type": "code",
      "source": [
        "a = np.arange(0, 40, 10)\n",
        "a.shape"
      ],
      "metadata": {
        "colab": {
          "base_uri": "https://localhost:8080/"
        },
        "id": "pjc6dD4jSsGd",
        "outputId": "1d7a6d71-ee42-44f2-f5f4-94df40a085bd"
      },
      "execution_count": 30,
      "outputs": [
        {
          "output_type": "execute_result",
          "data": {
            "text/plain": [
              "(4,)"
            ]
          },
          "metadata": {},
          "execution_count": 30
        }
      ]
    },
    {
      "cell_type": "code",
      "source": [
        "# Converts 1D to 2D Array\n",
        "a = a[:, np.newaxis]\n",
        "a.shape"
      ],
      "metadata": {
        "colab": {
          "base_uri": "https://localhost:8080/"
        },
        "id": "TElFtEA6TCtw",
        "outputId": "0e536ab0-6c3b-41b3-c846-2bf2494589ce"
      },
      "execution_count": 32,
      "outputs": [
        {
          "output_type": "execute_result",
          "data": {
            "text/plain": [
              "(4, 1)"
            ]
          },
          "metadata": {},
          "execution_count": 32
        }
      ]
    },
    {
      "cell_type": "code",
      "source": [
        "a+b"
      ],
      "metadata": {
        "colab": {
          "base_uri": "https://localhost:8080/"
        },
        "id": "BBP94So_TF8F",
        "outputId": "646167a0-3a79-4b80-c5b4-2100caf6acd4"
      },
      "execution_count": 33,
      "outputs": [
        {
          "output_type": "execute_result",
          "data": {
            "text/plain": [
              "array([[ 0,  1,  2,  3],\n",
              "       [10, 11, 12, 13],\n",
              "       [20, 21, 22, 23],\n",
              "       [30, 31, 32, 33]])"
            ]
          },
          "metadata": {},
          "execution_count": 33
        }
      ]
    },
    {
      "cell_type": "code",
      "source": [
        "# Flattening:\n",
        "\n",
        "a = np.array([[1,2,3], [4,5,6]])\n",
        "a.ravel()"
      ],
      "metadata": {
        "colab": {
          "base_uri": "https://localhost:8080/"
        },
        "id": "As7VYZdaTR1-",
        "outputId": "c8acefbe-9cee-4199-f056-ffc85f91dd25"
      },
      "execution_count": 34,
      "outputs": [
        {
          "output_type": "execute_result",
          "data": {
            "text/plain": [
              "array([1, 2, 3, 4, 5, 6])"
            ]
          },
          "metadata": {},
          "execution_count": 34
        }
      ]
    },
    {
      "cell_type": "code",
      "source": [
        "a.T"
      ],
      "metadata": {
        "colab": {
          "base_uri": "https://localhost:8080/"
        },
        "id": "gNnEMHbQTjND",
        "outputId": "f8b0b4c8-5309-4e7d-8d91-94824a4ca596"
      },
      "execution_count": 35,
      "outputs": [
        {
          "output_type": "execute_result",
          "data": {
            "text/plain": [
              "array([[1, 4],\n",
              "       [2, 5],\n",
              "       [3, 6]])"
            ]
          },
          "metadata": {},
          "execution_count": 35
        }
      ]
    },
    {
      "cell_type": "code",
      "source": [
        "a"
      ],
      "metadata": {
        "colab": {
          "base_uri": "https://localhost:8080/"
        },
        "id": "7VLr2dTcTki-",
        "outputId": "857dd2ec-ef67-487a-fa84-3b414149a5cf"
      },
      "execution_count": 36,
      "outputs": [
        {
          "output_type": "execute_result",
          "data": {
            "text/plain": [
              "array([[1, 2, 3],\n",
              "       [4, 5, 6]])"
            ]
          },
          "metadata": {},
          "execution_count": 36
        }
      ]
    },
    {
      "cell_type": "code",
      "source": [
        "a.shape"
      ],
      "metadata": {
        "colab": {
          "base_uri": "https://localhost:8080/"
        },
        "id": "rCM1A4TITlT4",
        "outputId": "78c5fc9f-e1f0-4491-cb3d-076a905ea61d"
      },
      "execution_count": 37,
      "outputs": [
        {
          "output_type": "execute_result",
          "data": {
            "text/plain": [
              "(2, 3)"
            ]
          },
          "metadata": {},
          "execution_count": 37
        }
      ]
    },
    {
      "cell_type": "code",
      "source": [
        "# Reshaping:\n",
        "b = a.ravel()\n",
        "b.shape"
      ],
      "metadata": {
        "colab": {
          "base_uri": "https://localhost:8080/"
        },
        "id": "uhXjEIomTpzQ",
        "outputId": "5bfe9dee-76fe-46a1-e47d-7d4e5cb8a1fc"
      },
      "execution_count": 38,
      "outputs": [
        {
          "output_type": "execute_result",
          "data": {
            "text/plain": [
              "(6,)"
            ]
          },
          "metadata": {},
          "execution_count": 38
        }
      ]
    },
    {
      "cell_type": "code",
      "source": [
        "b = b.reshape(2,3)\n",
        "b"
      ],
      "metadata": {
        "colab": {
          "base_uri": "https://localhost:8080/"
        },
        "id": "vr_QjWldTtsd",
        "outputId": "1de9b7f4-7f2b-4abd-9866-10006a199d09"
      },
      "execution_count": 39,
      "outputs": [
        {
          "output_type": "execute_result",
          "data": {
            "text/plain": [
              "array([[1, 2, 3],\n",
              "       [4, 5, 6]])"
            ]
          },
          "metadata": {},
          "execution_count": 39
        }
      ]
    },
    {
      "cell_type": "code",
      "source": [
        "b[0, 0] = 100\n",
        "a\n",
        "# Memory location is same for both a & b for optimization"
      ],
      "metadata": {
        "colab": {
          "base_uri": "https://localhost:8080/"
        },
        "id": "KQpdvIEYTvbK",
        "outputId": "ed31b851-e8fc-4bfd-8d65-921608458d69"
      },
      "execution_count": 40,
      "outputs": [
        {
          "output_type": "execute_result",
          "data": {
            "text/plain": [
              "array([[100,   2,   3],\n",
              "       [  4,   5,   6]])"
            ]
          },
          "metadata": {},
          "execution_count": 40
        }
      ]
    },
    {
      "cell_type": "code",
      "source": [
        "a = np.arange(4)\n",
        "a.resize((8,))\n",
        "a"
      ],
      "metadata": {
        "colab": {
          "base_uri": "https://localhost:8080/"
        },
        "id": "5pmGC8twT9Pc",
        "outputId": "fe249d11-07c7-4660-d9de-d12fffe98a5d"
      },
      "execution_count": 42,
      "outputs": [
        {
          "output_type": "execute_result",
          "data": {
            "text/plain": [
              "array([0, 1, 2, 3, 0, 0, 0, 0])"
            ]
          },
          "metadata": {},
          "execution_count": 42
        }
      ]
    },
    {
      "cell_type": "code",
      "source": [
        "a = np.array([[33,11,22],[55,44,66]])\n",
        "print(a.sort(axis=1))\n",
        "print(np.sort(a, axis=1))"
      ],
      "metadata": {
        "colab": {
          "base_uri": "https://localhost:8080/"
        },
        "id": "Ce20L-AUUiDS",
        "outputId": "5f1f5f30-e2d6-48e1-cda5-765900db99b8"
      },
      "execution_count": 46,
      "outputs": [
        {
          "output_type": "stream",
          "name": "stdout",
          "text": [
            "None\n",
            "[[11 22 33]\n",
            " [44 55 66]]\n"
          ]
        }
      ]
    },
    {
      "cell_type": "code",
      "source": [
        "np.argsort(a)"
      ],
      "metadata": {
        "colab": {
          "base_uri": "https://localhost:8080/"
        },
        "id": "YLz8JAF9U_Wj",
        "outputId": "5c3c99c9-0615-48ff-b336-47db2eb46f7d"
      },
      "execution_count": 47,
      "outputs": [
        {
          "output_type": "execute_result",
          "data": {
            "text/plain": [
              "array([[0, 1, 2],\n",
              "       [0, 1, 2]])"
            ]
          },
          "metadata": {},
          "execution_count": 47
        }
      ]
    },
    {
      "cell_type": "code",
      "source": [
        ""
      ],
      "metadata": {
        "id": "pQwXkWdtVUbL"
      },
      "execution_count": null,
      "outputs": []
    }
  ]
}