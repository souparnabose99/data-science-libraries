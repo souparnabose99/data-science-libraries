{
  "nbformat": 4,
  "nbformat_minor": 0,
  "metadata": {
    "colab": {
      "name": "Numpy-Operations-1.ipynb",
      "provenance": [],
      "collapsed_sections": []
    },
    "kernelspec": {
      "name": "python3",
      "display_name": "Python 3"
    },
    "language_info": {
      "name": "python"
    }
  },
  "cells": [
    {
      "cell_type": "markdown",
      "source": [
        "#### Numpy Documentation:\n",
        "https://numpy.org/doc/stable/"
      ],
      "metadata": {
        "id": "HSq5J4XrjD9F"
      }
    },
    {
      "cell_type": "code",
      "execution_count": 1,
      "metadata": {
        "id": "j48Ga8-bs9wc"
      },
      "outputs": [],
      "source": [
        "import numpy as np"
      ]
    },
    {
      "cell_type": "code",
      "source": [
        "arr = np.array([0, 1, 2, 3])\n",
        "arr_2 = np.arange(10)\n",
        "print(arr, \"\\n\", arr_2)"
      ],
      "metadata": {
        "colab": {
          "base_uri": "https://localhost:8080/"
        },
        "id": "xU6pc0ZFb0mu",
        "outputId": "f3bbdec7-e53a-4026-d222-a0da4e9984e0"
      },
      "execution_count": 2,
      "outputs": [
        {
          "output_type": "stream",
          "name": "stdout",
          "text": [
            "[0 1 2 3] \n",
            " [0 1 2 3 4 5 6 7 8 9]\n"
          ]
        }
      ]
    },
    {
      "cell_type": "code",
      "source": [
        "# List vs Numpy array:\n",
        "num_list = range(10000)\n",
        "%timeit [i**2 for i in num_list]"
      ],
      "metadata": {
        "colab": {
          "base_uri": "https://localhost:8080/"
        },
        "id": "jWP1jF0KcqxK",
        "outputId": "de4928d1-8109-4b0e-c554-8c915dd03889"
      },
      "execution_count": 3,
      "outputs": [
        {
          "output_type": "stream",
          "name": "stdout",
          "text": [
            "100 loops, best of 5: 2.46 ms per loop\n"
          ]
        }
      ]
    },
    {
      "cell_type": "code",
      "source": [
        "arr_3 = np.arange(10000)\n",
        "%timeit arr_3**2"
      ],
      "metadata": {
        "colab": {
          "base_uri": "https://localhost:8080/"
        },
        "id": "gjdhaujbdGSF",
        "outputId": "592a5969-5d11-474a-8170-8f83fbbd4e9a"
      },
      "execution_count": 4,
      "outputs": [
        {
          "output_type": "stream",
          "name": "stdout",
          "text": [
            "The slowest run took 10.26 times longer than the fastest. This could mean that an intermediate result is being cached.\n",
            "100000 loops, best of 5: 6.83 µs per loop\n"
          ]
        }
      ]
    },
    {
      "cell_type": "code",
      "source": [
        "# Numpy Array Attributes:\n",
        "print(arr_3.ndim)\n",
        "print(len(arr_3))\n",
        "print(arr_3.shape)"
      ],
      "metadata": {
        "colab": {
          "base_uri": "https://localhost:8080/"
        },
        "id": "JhddgvamdTEA",
        "outputId": "ac9a58b6-0463-4b40-8004-59a45d3d294f"
      },
      "execution_count": 5,
      "outputs": [
        {
          "output_type": "stream",
          "name": "stdout",
          "text": [
            "1\n",
            "10000\n",
            "(10000,)\n"
          ]
        }
      ]
    },
    {
      "cell_type": "code",
      "source": [
        "# 2D & 3D Arrays:\n",
        "arr_2d = np.array([[0,1,2],[3,4,5]])\n",
        "print(\"2D Array details : \\n\", arr_2d)\n",
        "print(arr_2d.ndim)\n",
        "print(len(arr_2d))\n",
        "print(arr_2d.shape)\n",
        "\n",
        "arr_3d = np.array([[[0,1], [2,3]],[[4,5], [6,7]], [[8,9], [0,0]]])\n",
        "print(\"3D Array details : \\n\", arr_3d)\n",
        "print(arr_3d.ndim)\n",
        "print(len(arr_3d))\n",
        "print(arr_3d.shape)"
      ],
      "metadata": {
        "colab": {
          "base_uri": "https://localhost:8080/"
        },
        "id": "rIoI8rpBduuC",
        "outputId": "b538cfaf-f346-4efa-f614-452059693761"
      },
      "execution_count": 8,
      "outputs": [
        {
          "output_type": "stream",
          "name": "stdout",
          "text": [
            "2D Array details : \n",
            " [[0 1 2]\n",
            " [3 4 5]]\n",
            "2\n",
            "2\n",
            "(2, 3)\n",
            "3D Array details : \n",
            " [[[0 1]\n",
            "  [2 3]]\n",
            "\n",
            " [[4 5]\n",
            "  [6 7]]\n",
            "\n",
            " [[8 9]\n",
            "  [0 0]]]\n",
            "3\n",
            "3\n",
            "(3, 2, 2)\n"
          ]
        }
      ]
    },
    {
      "cell_type": "code",
      "source": [
        "arr = np.arange(1, 20, 3)\n",
        "print(arr, \"\\n\")\n",
        "arr_2 = np.linspace(1, 20, 40)\n",
        "print(arr_2)"
      ],
      "metadata": {
        "colab": {
          "base_uri": "https://localhost:8080/"
        },
        "id": "yODLpQ9ge1Ud",
        "outputId": "be8705ef-80d1-4deb-dc4c-3d06e877531a"
      },
      "execution_count": 11,
      "outputs": [
        {
          "output_type": "stream",
          "name": "stdout",
          "text": [
            "[ 1  4  7 10 13 16 19] \n",
            "\n",
            "[ 1.          1.48717949  1.97435897  2.46153846  2.94871795  3.43589744\n",
            "  3.92307692  4.41025641  4.8974359   5.38461538  5.87179487  6.35897436\n",
            "  6.84615385  7.33333333  7.82051282  8.30769231  8.79487179  9.28205128\n",
            "  9.76923077 10.25641026 10.74358974 11.23076923 11.71794872 12.20512821\n",
            " 12.69230769 13.17948718 13.66666667 14.15384615 14.64102564 15.12820513\n",
            " 15.61538462 16.1025641  16.58974359 17.07692308 17.56410256 18.05128205\n",
            " 18.53846154 19.02564103 19.51282051 20.        ]\n"
          ]
        }
      ]
    },
    {
      "cell_type": "code",
      "source": [
        "arr"
      ],
      "metadata": {
        "colab": {
          "base_uri": "https://localhost:8080/"
        },
        "id": "xH9-CiR4fgnf",
        "outputId": "42590923-48be-42d1-b9a2-2f5654b6b4cb"
      },
      "execution_count": 12,
      "outputs": [
        {
          "output_type": "execute_result",
          "data": {
            "text/plain": [
              "array([ 1,  4,  7, 10, 13, 16, 19])"
            ]
          },
          "metadata": {},
          "execution_count": 12
        }
      ]
    },
    {
      "cell_type": "code",
      "source": [
        "type(arr)"
      ],
      "metadata": {
        "colab": {
          "base_uri": "https://localhost:8080/"
        },
        "id": "j0DmV_JyfqjQ",
        "outputId": "dd5557eb-7de3-4e04-dcff-968c67757aac"
      },
      "execution_count": 14,
      "outputs": [
        {
          "output_type": "execute_result",
          "data": {
            "text/plain": [
              "numpy.ndarray"
            ]
          },
          "metadata": {},
          "execution_count": 14
        }
      ]
    },
    {
      "cell_type": "code",
      "source": [
        "np.ones((5,5))"
      ],
      "metadata": {
        "colab": {
          "base_uri": "https://localhost:8080/"
        },
        "id": "DBO9Yii6fv5V",
        "outputId": "7bb7bf36-35fb-460d-8428-2d921001e11d"
      },
      "execution_count": 15,
      "outputs": [
        {
          "output_type": "execute_result",
          "data": {
            "text/plain": [
              "array([[1., 1., 1., 1., 1.],\n",
              "       [1., 1., 1., 1., 1.],\n",
              "       [1., 1., 1., 1., 1.],\n",
              "       [1., 1., 1., 1., 1.],\n",
              "       [1., 1., 1., 1., 1.]])"
            ]
          },
          "metadata": {},
          "execution_count": 15
        }
      ]
    },
    {
      "cell_type": "code",
      "source": [
        "np.zeros((4,4))"
      ],
      "metadata": {
        "colab": {
          "base_uri": "https://localhost:8080/"
        },
        "id": "_jdzJT9Mf59G",
        "outputId": "0403d138-04a7-4930-f50f-c897ccce9f56"
      },
      "execution_count": 17,
      "outputs": [
        {
          "output_type": "execute_result",
          "data": {
            "text/plain": [
              "array([[0., 0., 0., 0.],\n",
              "       [0., 0., 0., 0.],\n",
              "       [0., 0., 0., 0.],\n",
              "       [0., 0., 0., 0.]])"
            ]
          },
          "metadata": {},
          "execution_count": 17
        }
      ]
    },
    {
      "cell_type": "code",
      "source": [
        "np.eye(2,3)"
      ],
      "metadata": {
        "colab": {
          "base_uri": "https://localhost:8080/"
        },
        "id": "EVOFIB5pf9X7",
        "outputId": "b111d9d3-34dd-48dd-d484-8f34e13e20b7"
      },
      "execution_count": 18,
      "outputs": [
        {
          "output_type": "execute_result",
          "data": {
            "text/plain": [
              "array([[1., 0., 0.],\n",
              "       [0., 1., 0.]])"
            ]
          },
          "metadata": {},
          "execution_count": 18
        }
      ]
    },
    {
      "cell_type": "code",
      "source": [
        "np.diag([1,2,3,4,5])"
      ],
      "metadata": {
        "colab": {
          "base_uri": "https://localhost:8080/"
        },
        "id": "iUp1yCJZgDUi",
        "outputId": "c56dd104-12b2-4e8d-a8e8-fca6df70a179"
      },
      "execution_count": 19,
      "outputs": [
        {
          "output_type": "execute_result",
          "data": {
            "text/plain": [
              "array([[1, 0, 0, 0, 0],\n",
              "       [0, 2, 0, 0, 0],\n",
              "       [0, 0, 3, 0, 0],\n",
              "       [0, 0, 0, 4, 0],\n",
              "       [0, 0, 0, 0, 5]])"
            ]
          },
          "metadata": {},
          "execution_count": 19
        }
      ]
    },
    {
      "cell_type": "code",
      "source": [
        "arr = [0,1,2,3]\n",
        "arr_2 = np.diag(arr)\n",
        "arr_2"
      ],
      "metadata": {
        "colab": {
          "base_uri": "https://localhost:8080/"
        },
        "id": "2FPIJILOgUdh",
        "outputId": "47d2c28a-6da1-4da2-fc88-dff5f4c13634"
      },
      "execution_count": 20,
      "outputs": [
        {
          "output_type": "execute_result",
          "data": {
            "text/plain": [
              "array([[0, 0, 0, 0],\n",
              "       [0, 1, 0, 0],\n",
              "       [0, 0, 2, 0],\n",
              "       [0, 0, 0, 3]])"
            ]
          },
          "metadata": {},
          "execution_count": 20
        }
      ]
    },
    {
      "cell_type": "code",
      "source": [
        "np.diag(arr_2)"
      ],
      "metadata": {
        "colab": {
          "base_uri": "https://localhost:8080/"
        },
        "id": "e8SKKJs1gfBz",
        "outputId": "a7510e93-187a-4a1c-baf2-c202d564fcde"
      },
      "execution_count": 21,
      "outputs": [
        {
          "output_type": "execute_result",
          "data": {
            "text/plain": [
              "array([0, 1, 2, 3])"
            ]
          },
          "metadata": {},
          "execution_count": 21
        }
      ]
    },
    {
      "cell_type": "code",
      "source": [
        "# Random Numbers:\n",
        "\n",
        "a = np.random.rand(5)\n",
        "print(a)\n",
        "\n",
        "# For Standard Normal distribution:\n",
        "b = np.random.randn(5)\n",
        "print(b)"
      ],
      "metadata": {
        "colab": {
          "base_uri": "https://localhost:8080/"
        },
        "id": "1AsMI0-jgiMH",
        "outputId": "ff81e277-c5ad-4f8b-e7ae-bdd258102da5"
      },
      "execution_count": 22,
      "outputs": [
        {
          "output_type": "stream",
          "name": "stdout",
          "text": [
            "[0.55944969 0.5493631  0.64064836 0.41858505 0.398237  ]\n",
            "[-2.47403488 -0.05494671  0.09085587 -0.36782933  1.03258281]\n"
          ]
        }
      ]
    },
    {
      "cell_type": "code",
      "source": [
        "a.dtype"
      ],
      "metadata": {
        "colab": {
          "base_uri": "https://localhost:8080/"
        },
        "id": "INY6GxS1hBWj",
        "outputId": "a5d5c8c4-f7d8-4a9b-ee75-b434ae7f6b07"
      },
      "execution_count": 23,
      "outputs": [
        {
          "output_type": "execute_result",
          "data": {
            "text/plain": [
              "dtype('float64')"
            ]
          },
          "metadata": {},
          "execution_count": 23
        }
      ]
    },
    {
      "cell_type": "code",
      "source": [
        "arr_2.dtype"
      ],
      "metadata": {
        "colab": {
          "base_uri": "https://localhost:8080/"
        },
        "id": "11y60E35hO4b",
        "outputId": "910b67d7-3639-4e56-df38-bebf4c30995b"
      },
      "execution_count": 25,
      "outputs": [
        {
          "output_type": "execute_result",
          "data": {
            "text/plain": [
              "dtype('int64')"
            ]
          },
          "metadata": {},
          "execution_count": 25
        }
      ]
    },
    {
      "cell_type": "code",
      "source": [
        "arr = np.arange(10, dtype=\"float64\")\n",
        "print(arr)\n",
        "print(arr.dtype)"
      ],
      "metadata": {
        "colab": {
          "base_uri": "https://localhost:8080/"
        },
        "id": "X7H5oQNMhQ6w",
        "outputId": "7f81fb9c-df3e-4277-e6b1-e704f2358d8c"
      },
      "execution_count": 26,
      "outputs": [
        {
          "output_type": "stream",
          "name": "stdout",
          "text": [
            "[0. 1. 2. 3. 4. 5. 6. 7. 8. 9.]\n",
            "float64\n"
          ]
        }
      ]
    },
    {
      "cell_type": "code",
      "source": [
        "a = np.array([(1+2j),(3+4j)])\n",
        "b = np.array([True, False, False, True])\n",
        "c = np.array([\"A\", \"B\", \"C\", \"D\"])\n",
        "print(a, \"\\n\", b, \"\\n\", c)\n",
        "print(a.dtype, \"\\n\", b.dtype, \"\\n\", c.dtype)"
      ],
      "metadata": {
        "colab": {
          "base_uri": "https://localhost:8080/"
        },
        "id": "sTZ7uKKxhqB3",
        "outputId": "e9c92061-a5d0-4870-e06a-b55d1c1c6dc6"
      },
      "execution_count": 28,
      "outputs": [
        {
          "output_type": "stream",
          "name": "stdout",
          "text": [
            "[1.+2.j 3.+4.j] \n",
            " [ True False False  True] \n",
            " ['A' 'B' 'C' 'D']\n",
            "complex128 \n",
            " bool \n",
            " <U1\n"
          ]
        }
      ]
    },
    {
      "cell_type": "code",
      "source": [
        "arr_2[2,2]"
      ],
      "metadata": {
        "colab": {
          "base_uri": "https://localhost:8080/"
        },
        "id": "w-noa_vXiYC-",
        "outputId": "9c26628c-affe-4b96-f3e0-e4bd49edf211"
      },
      "execution_count": 29,
      "outputs": [
        {
          "output_type": "execute_result",
          "data": {
            "text/plain": [
              "2"
            ]
          },
          "metadata": {},
          "execution_count": 29
        }
      ]
    },
    {
      "cell_type": "code",
      "source": [
        "arr_2[2:5]"
      ],
      "metadata": {
        "colab": {
          "base_uri": "https://localhost:8080/"
        },
        "id": "gmlhvgzG36q1",
        "outputId": "e7a6cab9-b22b-477e-8b15-593563633372"
      },
      "execution_count": 30,
      "outputs": [
        {
          "output_type": "execute_result",
          "data": {
            "text/plain": [
              "array([[0, 0, 2, 0],\n",
              "       [0, 0, 0, 3]])"
            ]
          },
          "metadata": {},
          "execution_count": 30
        }
      ]
    },
    {
      "cell_type": "code",
      "source": [
        "# Slicing an array creates a view on the original array, which is a way of accessing data. The original array is not copied in memory.\n",
        "a = np.arange(10)\n",
        "print(a)\n",
        "b = a[::2]\n",
        "print(b)\n",
        "print(np.shares_memory(a, b))"
      ],
      "metadata": {
        "colab": {
          "base_uri": "https://localhost:8080/"
        },
        "id": "SBUXyftF39CX",
        "outputId": "27899003-b3dc-4633-ddcc-7e43de4c044b"
      },
      "execution_count": 31,
      "outputs": [
        {
          "output_type": "stream",
          "name": "stdout",
          "text": [
            "[0 1 2 3 4 5 6 7 8 9]\n",
            "[0 2 4 6 8]\n",
            "True\n"
          ]
        }
      ]
    },
    {
      "cell_type": "code",
      "source": [
        "b[0]=10\n",
        "print(b)\n",
        "print(a)"
      ],
      "metadata": {
        "colab": {
          "base_uri": "https://localhost:8080/"
        },
        "id": "OAWAgmED5Mue",
        "outputId": "d8610b07-9824-4a87-ab88-5226a6c0951b"
      },
      "execution_count": 32,
      "outputs": [
        {
          "output_type": "stream",
          "name": "stdout",
          "text": [
            "[10  2  4  6  8]\n",
            "[10  1  2  3  4  5  6  7  8  9]\n"
          ]
        }
      ]
    },
    {
      "cell_type": "code",
      "source": [
        "c = a[::2].copy()\n",
        "print(c)\n",
        "print(np.shares_memory(a,c))"
      ],
      "metadata": {
        "colab": {
          "base_uri": "https://localhost:8080/"
        },
        "id": "4l_XMpbC5kr8",
        "outputId": "0c49f744-51e7-4b8a-aa2b-00f4126f5be4"
      },
      "execution_count": 33,
      "outputs": [
        {
          "output_type": "stream",
          "name": "stdout",
          "text": [
            "[10  2  4  6  8]\n",
            "False\n"
          ]
        }
      ]
    },
    {
      "cell_type": "code",
      "source": [
        "# Mask creates copy and not view:\n",
        "\n",
        "a = np.random.randint(0, 30, 20)\n",
        "mask = (a%2==0)\n",
        "b = a[mask]\n",
        "print(a)\n",
        "print(b)\n",
        "a[mask] = -1\n",
        "print(a)"
      ],
      "metadata": {
        "colab": {
          "base_uri": "https://localhost:8080/"
        },
        "id": "hA3gpxXj53Kz",
        "outputId": "adbe5495-de3a-425a-a258-80c2e0bac16e"
      },
      "execution_count": 38,
      "outputs": [
        {
          "output_type": "stream",
          "name": "stdout",
          "text": [
            "[28 26 24 12 19 16 21 14 24 18 22  5 20 14  9 29 25 17 19 24]\n",
            "[28 26 24 12 16 14 24 18 22 20 14 24]\n",
            "[-1 -1 -1 -1 19 -1 21 -1 -1 -1 -1  5 -1 -1  9 29 25 17 19 -1]\n"
          ]
        }
      ]
    },
    {
      "cell_type": "code",
      "source": [
        "a[[2,4,7,5,2]]"
      ],
      "metadata": {
        "colab": {
          "base_uri": "https://localhost:8080/"
        },
        "id": "sEtdHHST6iDP",
        "outputId": "3f4c7eed-cd3c-48de-9faa-13f29aab82ad"
      },
      "execution_count": 40,
      "outputs": [
        {
          "output_type": "execute_result",
          "data": {
            "text/plain": [
              "array([-1, 19, -1, -1, -1])"
            ]
          },
          "metadata": {},
          "execution_count": 40
        }
      ]
    },
    {
      "cell_type": "code",
      "source": [
        "a[[5, 10]] = 333\n",
        "a"
      ],
      "metadata": {
        "colab": {
          "base_uri": "https://localhost:8080/"
        },
        "id": "4Okajcg27YY3",
        "outputId": "3f595560-957f-4ebc-9528-1c5b187a4a74"
      },
      "execution_count": 41,
      "outputs": [
        {
          "output_type": "execute_result",
          "data": {
            "text/plain": [
              "array([ -1,  -1,  -1,  -1,  19, 333,  21,  -1,  -1,  -1, 333,   5,  -1,\n",
              "        -1,   9,  29,  25,  17,  19,  -1])"
            ]
          },
          "metadata": {},
          "execution_count": 41
        }
      ]
    },
    {
      "cell_type": "code",
      "source": [
        ""
      ],
      "metadata": {
        "id": "tKz0A4Kn7hvU"
      },
      "execution_count": null,
      "outputs": []
    }
  ]
}